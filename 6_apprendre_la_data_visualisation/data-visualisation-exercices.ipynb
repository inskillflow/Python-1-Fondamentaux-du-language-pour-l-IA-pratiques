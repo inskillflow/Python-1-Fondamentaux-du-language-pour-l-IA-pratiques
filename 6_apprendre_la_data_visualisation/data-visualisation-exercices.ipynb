{
 "cells": [
  {
   "cell_type": "markdown",
   "metadata": {},
   "source": [
    "<b>Quel est ton digmimon préféré ? TP Data visualisation </b>\n",
    "\n",
    "Digimon, abréviation de \"monstres numériques\", est une franchise qui s'articule autour d'une mécanique de base qui consiste à capturer, soigner et entraîner les monstres pour ensuite s'engager dans le combat avec eux. C'est similaire aux Pokémon. <br>\n",
    "\n",
    "Ce fichier contient une liste de tous les Digimon du jeu, avec leur niveau, leur coquille, leur attribut, leur mémoire et le nombre de slots d'équipement. Toutes les statistiques (HP, SP, attaque, défense, intelligence et vitesse) sont pour ce Digimon au niveau 50.<br><br>\n",
    "\n",
    "pour toute la suite de cet exercice vous pouvez prendre pour modèle ce que nous avons fait pendant le cours (si vous êtes perdus). Et pour chaque questions n'hesitez pas à écrire vos observations/analyses ! <br><br>\n",
    "\n",
    "1) importez le fichier DigiDB_digimonlist.csv et affichez le header<br>\n",
    "2) A l'aide de la fonction .info() de pandas, vérifiez le type des colonnes et si des valeurs manquent dans certaines d'entre elle<br>\n",
    "3) à l'aide de matplotlib, affichez un bar chart du nombre de digimons par niveau (Stage). <br>\n",
    "4) faites le même exercice avec les attributs. Il y a plus de valeurs...adaptez la largeur du graphique pour que cela reste simple à consulter<br>\n",
    "5) en utilisant sns.distplot, affichez la répartition de la colonne Memory<br>\n",
    "6) en utiliant sns.kdeplot, affichez uniquement la courbe de répartition de la colonne 'Lv 50 HP'<br>\n",
    "7) en utilisant scatter_matrix de Pandas, affichez la répartition et les nuages de point des 6 dernières colonnes du data set<br>\n",
    "8) Il semble y avoir quelque chose d'intéréssant entre 'Lv50 SP' et 'Lv50 Int'...utilisez sns.jointplot pour voir cela plus en détail<br>\n",
    "9) en utilisant sns.lmplot, ajoutez le niveau des digimons (Stage) sur le nuage de points réalisé en point 8.<br>\n",
    "10) En utilisant sns.violinplot, visionnez la réparition de 'Lv 50 HP' en fonction du stage du digimon.<br>\n",
    "\n"
   ]
  }
 ],
 "metadata": {
  "kernelspec": {
   "display_name": "Python 3",
   "language": "python",
   "name": "python3"
  },
  "language_info": {
   "codemirror_mode": {
    "name": "ipython",
    "version": 3
   },
   "file_extension": ".py",
   "mimetype": "text/x-python",
   "name": "python",
   "nbconvert_exporter": "python",
   "pygments_lexer": "ipython3",
   "version": "3.6.2"
  }
 },
 "nbformat": 4,
 "nbformat_minor": 2
}

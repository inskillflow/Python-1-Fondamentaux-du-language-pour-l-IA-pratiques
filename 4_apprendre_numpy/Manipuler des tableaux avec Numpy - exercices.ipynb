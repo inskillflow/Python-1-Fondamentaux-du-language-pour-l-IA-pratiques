{
 "cells": [
  {
   "cell_type": "markdown",
   "metadata": {},
   "source": [
    "<b> Pause café ! TP : Analyse apports nutritifs des boissons Starbucks </b>"
   ]
  },
  {
   "cell_type": "markdown",
   "metadata": {},
   "source": [
    "Dans ce TP nous allons analyser les apports nutritifs que vous pouvez retrouver dans un Starbucks.\n",
    "Le tableau a déjà été créé par mes soins. On trouvera dans le tableau 6 colonnes : Nom de la boisson Calories (cal), lipides (g), Glucides (g), Fibres (g), Proteines (g) et sel(g).\n",
    "\n",
    "Les données sont issues de ce dataset. Elles sont différentes de celles présentes ici car j'ai suprrimé les boissons avec des données manquantes. <br>\n",
    "Retrouvez le détail ici : https://www.kaggle.com/starbucks/starbucks-menu#starbucks-menu-nutrition-drinks.csv\n",
    "\n",
    "\n",
    "<b>Preparation du dataset</b><br>\n",
    "1) Affichez les 5 premières lignes du tableau afin de mieux comprendre sa construction <br>\n",
    "2) afin de préparer l'analyse du tableau nous allons créer un tableau drinksTab qui ne contiendra pas les entêtes de colonnes (première ligne de drinks) <br>\n",
    "3) On va maintenant créer un tableau 'drinksData' qui ne contiendra que les valeurs numériques du tableau (sans le nom des boissons). On va créer un deuxième tableau 'boissons' qui ne contiendra que les noms des boissons. <br>\n",
    "4) Modifier le type de drinksData afin que nous puissions faire des opérations mathématiques dessus <br>\n",
    "\n",
    "<b>Analyse </b><br>\n",
    "5) combien y a t'il de boissons dans le jeu de données ? <br>\n",
    "6) quelle est la moyenne des calories par boisson ? <br>\n",
    "7) quelle est la moyenne des glucides par boisson ? <br>\n",
    "8) comparez ces chiffres avec une canette de soda classique (via une recherche sur internet) et marquez vos premières observations <br>\n",
    "9) Quel est le nombre de calories maximum rencontrées dans une boisson ? <br>\n",
    "10 ) quel est le nom de la boissons avec le maximum de calories ? (aide : argmax() puis aller voir dans le tableau Boissons) <br>\n",
    "\n",
    "Aller plus loin : faites le même exercice d'analyse  avec les lipides ou les proteines"
   ]
  },
  {
   "cell_type": "code",
   "execution_count": null,
   "metadata": {
    "collapsed": true
   },
   "outputs": [],
   "source": [
    "import numpy as np\n",
    "drinks= np.array([['Nom de la boisson', 'Calories', 'lipides (g)', 'Glucides (g)', 'Fibres (g)', 'Proteines (g)', 'sel(g)'],['Cool Lime Starbucks Refreshers™ Beverage', '45', '0', '11', '0', '0', '10'], ['Strawberry Acai Starbucks Refreshers™ Beverage', '80', '0', '18', '1', '0', '10'], ['Very Berry Hibiscus Starbucks Refreshers™ Beverage', '60', '0', '14', '1', '0', '10'], ['Evolution Fresh™ Organic Ginger Limeade', '110', '0', '28', '0', '0', '5'], ['Iced Coffee', '0', '0', '0', '0', '0', '0'], ['Iced Espresso Classics - Vanilla Latte', '130', '2.5', '21', '0', '5', '65'], ['Iced Espresso Classics - Caffe Mocha', '140', '2.5', '23', '0', '5', '90'], ['Iced Espresso Classics - Caramel Macchiato', '130', '2.5', '21', '0', '5', '65'], ['Shaken Sweet Tea', '80', '0', '19', '0', '0', '10'], ['Tazo® Bottled Berry Blossom White', '60', '0', '15', '0', '0', '10'], ['Tazo® Bottled Black Mango', '150', '0', '38', '0', '0', '15'], ['Tazo® Bottled Black with Lemon', '140', '0', '35', '0', '0', '10'], ['Tazo® Bottled Brambleberry', '140', '0', '35', '0', '0', '15'], ['Tazo® Bottled Giant Peach', '150', '0', '37', '0', '0', '15'], ['Tazo® Bottled Iced Passion', '70', '0', '17', '0', '0', '10'], ['Tazo® Bottled Lemon Ginger', '120', '0', '31', '0', '0', '10'], ['Tazo® Bottled Organic Black Lemonade', '140', '0', '35', '0', '0', '10'], ['Tazo® Bottled Organic Iced Black Tea', '60', '0', '15', '0', '0', '10'], ['Tazo® Bottled Organic Iced Green Tea', '120', '0', '31', '0', '0', '10'], ['Tazo® Bottled Plum Pomegranate', '140', '0', '35', '0', '0', '10'], ['Tazo® Bottled Tazoberry', '150', '0', '38', '0', '0', '15'], ['Tazo® Bottled White Cranberry', '140', '0', '35', '0', '0', '10'], ['Teavana® Shaken Iced Black Tea', '30', '0', '8', '0', '0', '5'], ['Teavana® Shaken Iced Black Tea Lemonade', '70', '0', '17', '0', '0', '0'], ['Teavana® Shaken Iced Green Tea', '30', '0', '8', '0', '0', '5'], ['Teavana® Shaken Iced Green Tea Lemonade', '70', '0', '17', '0', '0', '5'], ['Teavana® Shaken Iced Passion Tango™ Tea', '30', '0', '8', '0', '0', '5'], ['Teavana® Shaken Iced Passion Tango™ Tea Lemonade', '90', '0', '24', '0', '0', '0'], ['Teavana® Shaken Iced Peach Green Tea', '60', '0', '15', '0', '0', '0'], ['Iced Espresso Classics - Vanilla Latte', '130', '2.5', '21', '0', '5', '65'], ['Iced Espresso Classics - Caffe Mocha', '140', '2.5', '23', '0', '5', '90'], ['Iced Espresso Classics - Caramel Macchiato', '130', '2.5', '21', '0', '5', '65'], ['Starbucks Refreshers™ Raspberry Pomegranate', '90', '0', '27', '0', '0', '0'], ['Starbucks Refreshers™ Strawberry Lemonade', '90', '0', '27', '0', '0', '0'], ['Starbucks® Doubleshot Protein Dark Chocolate', '210', '2.5', '33', '2', '20', '115'], ['Starbucks® Doubleshot Protein Vanilla', '200', '2.5', '34', '2', '20', '120'], ['Starbucks® Iced Coffee Caramel', '60', '0', '13', '0', '1', '0'], ['Starbucks® Iced Coffee Light Sweetened', '50', '0', '11', '0', '1', '0'], ['Starbucks® Iced Coffee Unsweetened', '10', '0', '2', '0', '1', '0'], ['Tazo® Bottled Berry Blossom White', '60', '0', '15', '0', '0', '10'], ['Tazo® Bottled Black Mango', '150', '0', '38', '0', '0', '15'], ['Tazo® Bottled Black with Lemon', '140', '0', '35', '0', '0', '10'], ['Tazo® Bottled Brambleberry', '140', '0', '35', '0', '0', '15'], ['Tazo® Bottled Giant Peach', '150', '0', '37', '0', '0', '15'], ['Tazo® Bottled Iced Passion', '70', '0', '17', '0', '0', '10'], ['Tazo® Bottled Lemon Ginger', '120', '0', '31', '0', '0', '10'], ['Tazo® Bottled Organic Black Lemonade', '140', '0', '35', '0', '0', '10'], ['Tazo® Bottled Organic Iced Black Tea', '60', '0', '15', '0', '0', '10'], ['Tazo® Bottled Organic Iced Green Tea', '120', '0', '31', '0', '0', '10'], ['Tazo® Bottled Plum Pomegranate', '140', '0', '35', '0', '0', '10'], ['Tazo® Bottled Tazoberry', '150', '0', '38', '0', '0', '15'], ['Tazo® Bottled White Cranberry', '140', '0', '35', '0', '0', '10'], ['Blonde Roast', '5', '0', '0', '0', '1', '10'], ['Clover® Brewed Coffee', '10', '0', '0', '0', '1', '10'], ['Decaf Pike Place® Roast', '5', '0', '0', '0', '1', '10'], ['Featured Dark Roast', '5', '0', '0', '0', '1', '10'], ['Iced Coffee', '5', '0', '0', '0', '0', '5'], ['Nariño 70 Cold Brew', '5', '0', '0', '0', '0', '15'], ['Nariño 70 Cold Brew with Milk', '0', '0', '0', '0', '0', '0'], ['Nitro Cold Brew', '5', '0', '0', '0', '0', '10'], ['Nitro Cold Brew with Sweet Cream', '70', '5', '5', '0', '1', '20'], ['Pike Place® Roast', '5', '0', '0', '0', '1', '10'], ['Vanilla Sweet Cream Cold Brew', '110', '6', '14', '0', '1', '25'], ['Hot Chocolate', '320', '9', '47', '4', '14', '160'], ['Starbucks® Signature Hot Chocolate', '430', '26', '45', '5', '12', '115'], ['Caffè Latte', '190', '7', '19', '0', '13', '170'], ['Caffè Mocha', '290', '8', '42', '4', '13', '140'], ['Cappuccino', '120', '4', '12', '0', '8', '100'], ['Caramel Macchiato', '250', '7', '35', '0', '10', '150'], ['Cinnamon Dolce Latte', '260', '6', '40', '0', '11', '150'], ['Coconutmilk Mocha Macchiato', '250', '9', '32', '0', '12', '180'], ['Flat White', '180', '7', '18', '0', '12', '160'], ['Iced Caffè Latte', '130', '4.5', '13', '0', '8', '115'], ['Iced Caffè Mocha', '230', '6', '36', '4', '9', '90'], ['Iced Caramel Macchiato', '250', '7', '37', '0', '10', '150'], ['Iced Cinnamon Dolce Latte', '200', '4', '34', '0', '7', '95'], ['Iced Coconutmilk Mocha Macchiato', '260', '9', '34', '0', '11', '180'], ['Iced Vanilla Latte', '190', '4', '30', '0', '7', '100'], ['Iced White Chocolate Mocha', '300', '8', '47', '0', '10', '190'], ['Latte Macchiato', '190', '7', '19', '0', '12', '160'], ['Latte Macchiato', '190', '7', '19', '0', '12', '160'], ['Starbucks Doubleshot® on Ice Beverage', '45', '1', '5', '0', '3', '40'], ['Vanilla Latte', '250', '6', '37', '0', '12', '150'], ['White Chocolate Mocha', '360', '11', '53', '0', '14', '240'], ['Cinnamon Dolce Frappuccino® Blended Coffee', '350', '4.5', '64', '0', '15', '0'], ['Coffee Light Frappuccino® Blended Coffee', '110', '0', '24', '0', '3', '200'], ['Mocha Frappuccino® Blended Coffee', '280', '2.5', '60', '2', '4', '220'], ['Mocha Light Frappuccino® Blended Coffee', '140', '0.5', '28', '1', '4', '180'], ['Cinnamon Dolce Crème', '200', '6', '28', '0', '10', '135'], ['Vanilla Crème', '200', '6', '28', '0', '10', '135'], ['Chocolate Smoothie', '320', '5', '53', '8', '20', '170'], ['Strawberry Smoothie', '300', '2', '60', '7', '16', '130']])"
   ]
  }
 ],
 "metadata": {
  "kernelspec": {
   "display_name": "Python 3",
   "language": "python",
   "name": "python3"
  },
  "language_info": {
   "codemirror_mode": {
    "name": "ipython",
    "version": 3
   },
   "file_extension": ".py",
   "mimetype": "text/x-python",
   "name": "python",
   "nbconvert_exporter": "python",
   "pygments_lexer": "ipython3",
   "version": "3.6.2"
  }
 },
 "nbformat": 4,
 "nbformat_minor": 2
}

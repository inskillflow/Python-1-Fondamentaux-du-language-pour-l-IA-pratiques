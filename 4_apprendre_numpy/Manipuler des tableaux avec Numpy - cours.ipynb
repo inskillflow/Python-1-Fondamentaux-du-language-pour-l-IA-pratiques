{
 "cells": [
  {
   "cell_type": "markdown",
   "metadata": {},
   "source": [
    "Jusqu'ici nous avons maniupler des données avec des listes ou des dictionnaires"
   ]
  },
  {
   "cell_type": "code",
   "execution_count": null,
   "metadata": {},
   "outputs": [],
   "source": [
    "countryDict = {'France':70,'Angleterre':55,'Allemagne':85}\n",
    "print(countryDict)"
   ]
  },
  {
   "cell_type": "code",
   "execution_count": null,
   "metadata": {},
   "outputs": [],
   "source": [
    "countryList = [['France',70],['Angleterre',55],['Allemagne',85]]\n",
    "print(countryList)"
   ]
  },
  {
   "cell_type": "markdown",
   "metadata": {},
   "source": [
    "Pas adapté pour stoker des données pour une même dimension (pour un pays avoir la pop, le PIB, l'IDH))"
   ]
  },
  {
   "cell_type": "markdown",
   "metadata": {},
   "source": [
    "<b> Créer un tableau </b>"
   ]
  },
  {
   "cell_type": "code",
   "execution_count": null,
   "metadata": {},
   "outputs": [],
   "source": [
    "import numpy as np\n",
    "pays = np.array([ \n",
    "    ['France', 'Angleterre', 'Allemagne'], #Nom pays\n",
    "    [70, 55, 85],                          #Population en millions\n",
    "    [0.901, 0.922, 0.936],                 #IDH\n",
    "    [2091,2077,3045]                       #PIB\n",
    "])\n",
    "print(pays)"
   ]
  },
  {
   "cell_type": "markdown",
   "metadata": {},
   "source": [
    "<b>Sélectionner des valeurs dans un tableau (slicing)</b>"
   ]
  },
  {
   "cell_type": "code",
   "execution_count": null,
   "metadata": {},
   "outputs": [],
   "source": [
    "pays[1]"
   ]
  },
  {
   "cell_type": "code",
   "execution_count": null,
   "metadata": {},
   "outputs": [],
   "source": [
    "pays[1,1]"
   ]
  },
  {
   "cell_type": "code",
   "execution_count": null,
   "metadata": {},
   "outputs": [],
   "source": [
    "pays[:,1]"
   ]
  },
  {
   "cell_type": "code",
   "execution_count": null,
   "metadata": {},
   "outputs": [],
   "source": [
    "pays[1:3,:]"
   ]
  },
  {
   "cell_type": "code",
   "execution_count": null,
   "metadata": {},
   "outputs": [],
   "source": [
    "pays[:,1:3]"
   ]
  },
  {
   "cell_type": "markdown",
   "metadata": {},
   "source": [
    "<b>Faire des opérations dans un tableau</b>"
   ]
  },
  {
   "cell_type": "code",
   "execution_count": null,
   "metadata": {},
   "outputs": [],
   "source": [
    "dataPays = pays[1:,:]\n",
    "print(dataPays)\n",
    "#dataPays[1,1] - 1\n",
    "#.astype(float)\n",
    "#pays"
   ]
  },
  {
   "cell_type": "code",
   "execution_count": null,
   "metadata": {},
   "outputs": [],
   "source": [
    "dataPays = dataPays.astype(float)\n",
    "dataPays"
   ]
  },
  {
   "cell_type": "code",
   "execution_count": null,
   "metadata": {},
   "outputs": [],
   "source": [
    "np.set_printoptions(suppress=True)\n",
    "dataPays"
   ]
  },
  {
   "cell_type": "code",
   "execution_count": null,
   "metadata": {},
   "outputs": [],
   "source": [
    "dataPays*2"
   ]
  },
  {
   "cell_type": "code",
   "execution_count": null,
   "metadata": {},
   "outputs": [],
   "source": [
    "pib2018 = np.array([2091,2077,3045])\n",
    "pib2019 = np.array([2325,2101,3500])\n",
    "pib20182019 = pib2018 + pib2019\n",
    "pib20182019"
   ]
  },
  {
   "cell_type": "markdown",
   "metadata": {},
   "source": [
    "<b>Analyser un tableau</b>"
   ]
  },
  {
   "cell_type": "code",
   "execution_count": null,
   "metadata": {},
   "outputs": [],
   "source": [
    "dataPays.sum()\n",
    "dataPays[2,:].sum() #Sommes des PIB"
   ]
  },
  {
   "cell_type": "code",
   "execution_count": null,
   "metadata": {},
   "outputs": [],
   "source": [
    "print(dataPays[2,:].min())\n",
    "print(dataPays[2,:].max())\n",
    "print(dataPays[2,:].mean())"
   ]
  },
  {
   "cell_type": "code",
   "execution_count": null,
   "metadata": {},
   "outputs": [],
   "source": [
    "bestPibIndex = dataPays[2,:].argmax()\n",
    "worstPibIndex = dataPays[2,:].argmin()\n",
    "print(bestPibIndex,worstPibIndex)"
   ]
  },
  {
   "cell_type": "code",
   "execution_count": null,
   "metadata": {},
   "outputs": [],
   "source": [
    "print('le pays le plus riche : '+pays[0,bestPibIndex])\n",
    "print('le pays le moins riche : '+pays[0,worstPibIndex])"
   ]
  },
  {
   "cell_type": "code",
   "execution_count": null,
   "metadata": {},
   "outputs": [],
   "source": [
    "tab1 = np.array([1,2,3,4])\n",
    "tab2 = np.array([1,7,3,4])\n",
    "np.equal(tab1, tab2)"
   ]
  },
  {
   "cell_type": "markdown",
   "metadata": {},
   "source": [
    "<b> Manipuler un tableau </b>"
   ]
  },
  {
   "cell_type": "code",
   "execution_count": null,
   "metadata": {},
   "outputs": [],
   "source": [
    "dataPays[1,1] = 0\n",
    "dataPays"
   ]
  },
  {
   "cell_type": "code",
   "execution_count": null,
   "metadata": {},
   "outputs": [],
   "source": [
    "np.concatenate((pib2018, pib2019), axis=0)"
   ]
  },
  {
   "cell_type": "code",
   "execution_count": null,
   "metadata": {},
   "outputs": [],
   "source": [
    "dataPays = np.array([\n",
    "    [1, np.nan, 3],                          \n",
    "    [1, 2, 3],                 \n",
    "    [1, 2, 3]\n",
    "])\n",
    "print(dataPays)"
   ]
  },
  {
   "cell_type": "code",
   "execution_count": null,
   "metadata": {},
   "outputs": [],
   "source": [
    "dataPays*2"
   ]
  },
  {
   "cell_type": "code",
   "execution_count": null,
   "metadata": {},
   "outputs": [],
   "source": [
    "np.nan_to_num(dataPays)"
   ]
  },
  {
   "cell_type": "code",
   "execution_count": null,
   "metadata": {},
   "outputs": [],
   "source": [
    "Pays1 = np.array([\n",
    "    [1, 2],                          \n",
    "    [3, 4],\n",
    "])\n",
    "Pays2 = np.array([\n",
    "    [5, 6],                          \n",
    "    [7, 8],\n",
    "])\n",
    "\n",
    "print(Pays1*Pays2)\n",
    "print(Pays1+Pays2)\n",
    "\n",
    "#numpy peut également être utilisé pour du calcul matriciel (numpy.dot, array.T)"
   ]
  },
  {
   "cell_type": "markdown",
   "metadata": {},
   "source": [
    "<b>Le module arrange<b>"
   ]
  },
  {
   "cell_type": "code",
   "execution_count": null,
   "metadata": {},
   "outputs": [],
   "source": [
    "np.arange(1, 100, 2)"
   ]
  },
  {
   "cell_type": "code",
   "execution_count": null,
   "metadata": {},
   "outputs": [],
   "source": [
    "np.arange(0, 1, 0.1)"
   ]
  },
  {
   "cell_type": "code",
   "execution_count": null,
   "metadata": {},
   "outputs": [],
   "source": [
    "np.linspace(0, 100, 11)"
   ]
  }
 ],
 "metadata": {
  "kernelspec": {
   "display_name": "Python 3",
   "language": "python",
   "name": "python3"
  },
  "language_info": {
   "codemirror_mode": {
    "name": "ipython",
    "version": 3
   },
   "file_extension": ".py",
   "mimetype": "text/x-python",
   "name": "python",
   "nbconvert_exporter": "python",
   "pygments_lexer": "ipython3",
   "version": "3.7.6"
  }
 },
 "nbformat": 4,
 "nbformat_minor": 2
}

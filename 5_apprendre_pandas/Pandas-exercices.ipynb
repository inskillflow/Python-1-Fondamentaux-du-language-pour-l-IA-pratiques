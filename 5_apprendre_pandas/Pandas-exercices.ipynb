{
 "cells": [
  {
   "cell_type": "markdown",
   "metadata": {},
   "source": [
    "<b>TP : Partons faire un peu de shopping ! Analyse d'un listing de 10 000 chaussures vendues en ligne</b>\n",
    "\n",
    "source du dataset : https://www.kaggle.com/datafiniti/womens-shoes-prices\n",
    "\n",
    "Nous allons analyser un data set contenant 10 000 chaussures avec de nombreuse caractéristiques comme le prix, les couleurs disponibles, les tailles disponibles, leurs poids...\n",
    "\n",
    "Voici une traduction de la description des colonnes principales : \n",
    "- asins : Une liste des ASIN (identificateurs d'Amazon) utilisés pour ce produit.\n",
    "- brand : Le nom de marque de ce produit.\n",
    "- categories : Une liste de mots-clés de catégorie utilisés pour ce produit dans plusieurs sources.\n",
    "- colors : Une liste de couleurs disponibles pour ce produit.\n",
    "- count : Le nombre d'unités incluses dans l'emballage du produit. Peut inclure une description de l'unité.\n",
    "- dateAdded : La date à laquelle ce produit a été ajouté pour la première fois à la base de données des produits.\n",
    "- dateUpdated : La date la plus récente à laquelle ce produit a été mis à jour ou vu par notre système.\n",
    "- descriptions : Une liste des descriptions de ce produit provenant de diverses sources. Chaque description contient :\n",
    "- dimension : La longueur, la largeur et la hauteur de ce produit. Unités incluses.\n",
    "- ean : Les codes EAN de ce produit. Il peut y avoir plus d'un EAN dans la liste lorsqu'un produit a plusieurs variantes,\n",
    "- financingAndLeasing : Une liste des conditions de financement ou de location associées à ce produit\n",
    "- features : Une liste des caractéristiques associées à ce produit. La liste des caractéristiques peut être obtenue à partir des sections de caractéristiques spécifiques disponibles dans la liste des produits du produit.\n",
    "- manufacturer : Numéro du fabricant\n",
    "- merchants : Une liste des marchands qui vendent ce produit. Il s'agit généralement de marchands tiers que l'on trouve sur les sites Web de commerce électronique.\n",
    "- name : dénomination du produit\n",
    "- prices : Une liste de prix pour ce produit.\n",
    "- primaryCategories : Une liste des catégories normalisées auxquelles ce produit appartient. Les valeurs des catégories peuvent être trouvées ici.\n",
    "- quantities : Une liste des quantités disponibles pour ce produit. Les quantités indiquent combien d'unités du produit sont disponibles auprès d'une source spécifique à un moment donné.\n",
    "- reviews : Une liste de commentaires pour ce produit.\n",
    "- sizes : Une liste des tailles disponibles pour ce produit.\n",
    "- skus : Une liste des références de ce produit. Les SKU sont typiquement spécifiques aux détaillants individuels ou aux sites Web.\n",
    "- sourceURLs : Une liste d'URLs utilisées pour générer les données de ce produit.\n",
    "- upc : Le code CUP de ce produit.\n",
    "- websiteIDs : Une liste d'identifiants de site Web pour ce produit. Les ID de site Web sont liés à un détaillant en ligne spécifique. Il s'agit de l'identifiant unique utilisé par le site Web. Ils sont utilisés par Datafiniti lorsque d'autres identificateurs uniques ne sont pas disponibles pour un produit.\n",
    "- weight : Le poids du produit. Unités incluses.\n",
    "\n",
    "La source https://developer.datafiniti.co/docs/product-data-schema"
   ]
  },
  {
   "cell_type": "markdown",
   "metadata": {},
   "source": [
    "<b> Exercices </b>\n",
    "\n",
    "<b>Découverte du data set</b><br>\n",
    "1) à l'aide de la fonction read_csv, importez entièrement le data set de enregistrez dans le dataframe 'Shoes' <br>\n",
    "2) Utilisez la méthode .head() pour afficher les premières lignes <br>\n",
    "3) Il y a trop de colonnes...Pour avoir une vue d'ensemble changez le paramétrage de pandas avec set_option pour afficher les 34 colonnes. Une fois cela fait, affichez à nouveau le head de la page <br>\n",
    "4) On va garder uniquement les colonnes qui nous interessent. grace à la méthode de sélection de plusieurs colonnes, créez un dataframe 'ShoesLight', comprenant unique les colonnes suivantes :'id','name','dateUpdated','colors','prices.amountMax','prices.amountMin','prices.merchant'. <br>Affichez le head de ShoesLight.<br>\n",
    "\n",
    "<b> data cleaning </b> <br>\n",
    "5) A l'aide de la méthode .dtypes, consultez les types de chaque colonne. Ecrivez en markdown celles devant être corrigées et comment. <br>\n",
    "6) A l'aide des méthodes .isnull, .sum() et len(), calculez le % de valeurs maquantes par colonne. Notez en markdown celles qui sont problématiques. <br>\n",
    "7) Il manque trop de valeurs pour les colonnes des e-commercant et des couleurs. Retirez les du dataframe shoesLight <br>\n",
    "8) A l'aide de la méthode .to_datetime, transformez la colonne 'dateUpdated'\n",
    "\n",
    "<b> features modeling </b> <br>\n",
    "9) caculez la colonne 'prices.amountAverage' en additionnant les colonnes 'prices.amountMax' et 'prices.amountMin' et en divisant par 2 <br>\n",
    "10) grace à la méthode dt.weekday, créez une colonne 'dayOfweekUpdated', permettant de connaitre à partir de dateUpdated le jour de la semaine où les produits sont mis à jour\n",
    "\n",
    "<b> data analyse </b> <br>\n",
    "\n",
    "11) Analyser le prix moyen des chaussures avec la methode .desribe() <br>\n",
    "12) Y-a-t-il de grandes différences de prix en fonction de la marque ? A l'aide des methodes groupby(), mean() et sort_values(), créez une varaible 'Luxe' contenant les 10 marques les plus chères, puis la variable 'lowCost' contenant les 10 marques les moins chères. <br>\n",
    "13) grace à la méthode value_counts(), determinez le jour de la semaine où les produits sont le plus souvent mis à jour <br>\n",
    "14) (optionnel) donnez le prix moyen des produits de la marque 'easy street' mis à jour un jeudi\n"
   ]
  }
 ],
 "metadata": {
  "kernelspec": {
   "display_name": "Python 3",
   "language": "python",
   "name": "python3"
  },
  "language_info": {
   "codemirror_mode": {
    "name": "ipython",
    "version": 3
   },
   "file_extension": ".py",
   "mimetype": "text/x-python",
   "name": "python",
   "nbconvert_exporter": "python",
   "pygments_lexer": "ipython3",
   "version": "3.6.2"
  }
 },
 "nbformat": 4,
 "nbformat_minor": 2
}

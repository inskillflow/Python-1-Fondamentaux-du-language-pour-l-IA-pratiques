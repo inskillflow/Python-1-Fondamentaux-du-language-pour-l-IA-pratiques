{
 "cells": [
  {
   "cell_type": "markdown",
   "metadata": {},
   "source": [
    "<b>Objectifs</b>\n",
    "- Comprendre ce qu'est une fonction\n",
    "- Créer sa première fonction\n",
    "- Intégrer des paramètres à une fonction\n",
    "- ajouter des paramètres optionnels\n",
    "- ajouter une nomenclature à vos paramètres"
   ]
  },
  {
   "cell_type": "markdown",
   "metadata": {},
   "source": [
    "Une fonction est un bloc de code qui ne s'exécute que lorsqu'il est appelé.\n",
    "Vous pouvez transférer des données, appelées paramètres, dans une fonction.\n",
    "Une fonction peut ainsi renvoyer des données."
   ]
  },
  {
   "cell_type": "code",
   "execution_count": null,
   "metadata": {
    "collapsed": true
   },
   "outputs": [],
   "source": [
    "def ma_fonction():\n",
    "    print(\"ma première fonction, je suis ému :')\")"
   ]
  },
  {
   "cell_type": "code",
   "execution_count": null,
   "metadata": {},
   "outputs": [],
   "source": [
    "ma_fonction()"
   ]
  },
  {
   "cell_type": "markdown",
   "metadata": {},
   "source": [
    "<b> les paramètres des fonctions </b>"
   ]
  },
  {
   "cell_type": "code",
   "execution_count": null,
   "metadata": {},
   "outputs": [],
   "source": [
    "def bienvenue(userName):\n",
    "    print('Bienvenue '+userName+)\n",
    "\n",
    "nom = input('votre nom')\n",
    "bienvenue(nom)"
   ]
  },
  {
   "cell_type": "code",
   "execution_count": null,
   "metadata": {
    "collapsed": true
   },
   "outputs": [],
   "source": [
    "def bienvenue(userName):\n",
    "    print('Bienvenue '+userName+ ' ! ' )\n",
    "    humeur = input('comment allez-vous ? ')\n",
    "    print('votre humeur : '+humeur)"
   ]
  },
  {
   "cell_type": "code",
   "execution_count": null,
   "metadata": {},
   "outputs": [],
   "source": [
    "nom = input('votre nom')\n",
    "bienvenue(nom)"
   ]
  },
  {
   "cell_type": "markdown",
   "metadata": {},
   "source": [
    "<b>Retourner une ou plusieurs valeurs avec une fonction</b>"
   ]
  },
  {
   "cell_type": "code",
   "execution_count": null,
   "metadata": {
    "collapsed": true
   },
   "outputs": [],
   "source": [
    "def calculPrixTTC(prixht,TVA):\n",
    "    prixttc = prixht*(1+TVA)\n",
    "    \n",
    "calculPrixTTC(10,0.20)"
   ]
  },
  {
   "cell_type": "code",
   "execution_count": null,
   "metadata": {},
   "outputs": [],
   "source": [
    "def calculPrixTTC(prixht,TVA):\n",
    "    prixttc = prixht*(1+TVA)\n",
    "    return prixttc\n",
    "\n",
    "print(calculPrixTTC(10,0.20))\n",
    "\n",
    "prixPdt = calculPrixTTC(10,0.20)\n",
    "prixPdt"
   ]
  },
  {
   "cell_type": "code",
   "execution_count": null,
   "metadata": {},
   "outputs": [],
   "source": [
    "def calculPrixTTC(prixht,TVA):\n",
    "    prixttc = prixht*(1+TVA)\n",
    "    coutTVA = prixttc - prixht\n",
    "    return prixttc, coutTVA\n",
    "\n",
    "prixPdt = calculPrixTTC(20,0.20)\n",
    "prixPdt"
   ]
  },
  {
   "cell_type": "code",
   "execution_count": null,
   "metadata": {},
   "outputs": [],
   "source": [
    "prixPdt, coutTVA = calculPrixTTC(20,0.20)\n",
    "print(prixPdt)\n",
    "print(coutTVA)"
   ]
  },
  {
   "cell_type": "markdown",
   "metadata": {},
   "source": [
    "<b> les options sur les paramètres </b>"
   ]
  },
  {
   "cell_type": "code",
   "execution_count": null,
   "metadata": {},
   "outputs": [],
   "source": [
    "# et si on oubli un paramètre ?\n",
    "test = calculPrixTTC(20)"
   ]
  },
  {
   "cell_type": "code",
   "execution_count": null,
   "metadata": {},
   "outputs": [],
   "source": [
    "def calculPrixTTC(prixht,TVA=0.20):\n",
    "    prixttc = prixht*(1+TVA)\n",
    "    coutTVA = prixttc - prixht\n",
    "    return prixttc, coutTVA\n",
    "\n",
    "test1 = calculPrixTTC(20)\n",
    "print(test1)\n",
    "test2 = calculPrixTTC(20,0.05)\n",
    "print(test2)"
   ]
  },
  {
   "cell_type": "code",
   "execution_count": null,
   "metadata": {},
   "outputs": [],
   "source": [
    "#Et si on inverse les paramètres ?\n",
    "calculPrixTTC(0.05,20)"
   ]
  },
  {
   "cell_type": "code",
   "execution_count": null,
   "metadata": {},
   "outputs": [],
   "source": [
    "#La bonne méthode\n",
    "calculPrixTTC(TVA=0.05,prixht=20)"
   ]
  }
 ],
 "metadata": {
  "kernelspec": {
   "display_name": "Python 3",
   "language": "python",
   "name": "python3"
  },
  "language_info": {
   "codemirror_mode": {
    "name": "ipython",
    "version": 3
   },
   "file_extension": ".py",
   "mimetype": "text/x-python",
   "name": "python",
   "nbconvert_exporter": "python",
   "pygments_lexer": "ipython3",
   "version": "3.7.6"
  }
 },
 "nbformat": 4,
 "nbformat_minor": 2
}
